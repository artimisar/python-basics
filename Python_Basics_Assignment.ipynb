{
  "nbformat": 4,
  "nbformat_minor": 0,
  "metadata": {
    "colab": {
      "provenance": []
    },
    "kernelspec": {
      "name": "python3",
      "display_name": "Python 3"
    },
    "language_info": {
      "name": "python"
    }
  },
  "cells": [
    {
      "cell_type": "markdown",
      "source": [
        "Python Basics Question"
      ],
      "metadata": {
        "id": "pgnUek8cgmPN"
      }
    },
    {
      "cell_type": "markdown",
      "source": [
        "1.What is Python and why is it popular?\n",
        "\n",
        "\n",
        "*   Python is high level , interpreted programming language known for its simplicity and readability. It is popular because of its easy syntax, extensive libraries, and versatility in applications like web development, data science, AI, and automation.\n",
        "\n",
        "\n"
      ],
      "metadata": {
        "id": "oJaTIAxLeLXk"
      }
    },
    {
      "cell_type": "markdown",
      "source": [
        "2.What is an interpreter in Python?\n",
        "\n",
        "*  An interpreter is a program that executes Python code line by line, translating it into machine-readable instructions without needing compilation."
      ],
      "metadata": {
        "id": "hzw4Zhg3eU4K"
      }
    },
    {
      "cell_type": "markdown",
      "source": [
        "3.What are pre-defined keywords in Python?\n",
        "\n",
        "\n",
        "*   Keywords are reserved words in Python with special meanings, such as if, else, while, for, def, return, etc. They cannot be used as variable names."
      ],
      "metadata": {
        "id": "BUqoFunpeh2N"
      }
    },
    {
      "cell_type": "markdown",
      "source": [
        "4.Can keywords be used as variable names?\n",
        "\n",
        "\n",
        "*   No, keywords cannot be used as variable names since they have predefined meanings in Python.\n",
        "\n"
      ],
      "metadata": {
        "id": "8dSOv_7Ue6np"
      }
    },
    {
      "cell_type": "markdown",
      "source": [
        "5.What is mutability in Python?\n",
        "\n",
        "\n",
        "\n",
        "*   Mutability refers to whether an object’s value can be changed after creation. Mutable objects (e.g., lists) can be changed, while immutable objects (e.g., tuples, strings) cannot.\n",
        "\n"
      ],
      "metadata": {
        "id": "1w--hFLofKGH"
      }
    },
    {
      "cell_type": "markdown",
      "source": [
        "6.Why are lists mutable, but tuples are immutable?\n",
        "\n",
        "\n",
        "*   Lists are mutable because they are ordered collection data  designed to be modified frequently. Tuples are unordered collection data immutable for efficiency and security, as they consume less memory and prevent accidental modificat"
      ],
      "metadata": {
        "id": "FK-acVPrfMEi"
      }
    },
    {
      "cell_type": "markdown",
      "source": [
        "\n",
        "7.What is the difference between \"==\" and \"is\" operators in Python?\n",
        "\n",
        "\n",
        "*   == checks for value equality, while is checks for identity (whether two variables refer to the same object in memory)."
      ],
      "metadata": {
        "id": "K4xiShLvfV3w"
      }
    },
    {
      "cell_type": "markdown",
      "source": [
        "8.What are logical operators in Python?\n",
        "\n",
        "\n",
        "*  Logical operators are used for boolean logic\n",
        "\n",
        "    1. and (both conditions must be true)\n",
        "\n",
        "    2.or (at least one condition must be true)\n",
        "   \n",
        "    3.not (negates a condition)"
      ],
      "metadata": {
        "id": "efaK82IkfdNy"
      }
    },
    {
      "cell_type": "markdown",
      "source": [
        "9.What is type casting in Python?\n",
        "\n",
        "\n",
        "*   Type casting converts a variable from one data type to another, like converting a string to an integer."
      ],
      "metadata": {
        "id": "6_7RpT7lfj0X"
      }
    },
    {
      "cell_type": "markdown",
      "source": [
        "10.What is the difference between implicit and explicit type casting?\n",
        "\n",
        "\n",
        "\n",
        "*   Implicit type casting is done automatically by Python when it converts a smaller data type to a larger one (e.g., int to float).\n",
        "*Explicit type casting requires manual conversion using functions like int(), float(), or str()."
      ],
      "metadata": {
        "id": "tk7REtLLfo_-"
      }
    },
    {
      "cell_type": "markdown",
      "source": [
        "11.What is the purpose of conditional statements in Python?\n",
        "\n",
        "\n",
        "* Conditional statements (if, elif, else) control the program flow based on conditions."
      ],
      "metadata": {
        "id": "6KXYOIxyf2Q6"
      }
    },
    {
      "cell_type": "markdown",
      "source": [
        "12.How does the elif statement work?\n",
        "\n",
        "\n",
        "*  The elif statement allows multiple conditions to be checked in an if-elif-else structure. If an if condition is false, the program checks the elif conditions sequentially.\n"
      ],
      "metadata": {
        "id": "thLDKa6_gA1J"
      }
    },
    {
      "cell_type": "markdown",
      "source": [
        "13.What is the difference between for and while loops?\n",
        "\n",
        "\n",
        "*   A for loop is used when the number of iterations is known\n",
        "\n",
        "\n",
        "\n",
        "*   A while loop is used when iterations depend on a condition being true."
      ],
      "metadata": {
        "id": "3e9KplIGgJN1"
      }
    },
    {
      "cell_type": "markdown",
      "source": [
        "14.Describe a scenario where a while loop is more suitable than a for loop.\n",
        "\n",
        "\n",
        "*  A while loop is better when the number of iterations is unknown, such as taking user input until they enter a specific value.\n"
      ],
      "metadata": {
        "id": "GZdZLzFZgSL3"
      }
    },
    {
      "cell_type": "markdown",
      "source": [
        "Practical Questions"
      ],
      "metadata": {
        "id": "heieIWingelI"
      }
    },
    {
      "cell_type": "code",
      "source": [
        "#1.Write a Python Program to print \"Heloo,World!\"\n",
        "print(\"Hello,World!\")"
      ],
      "metadata": {
        "colab": {
          "base_uri": "https://localhost:8080/"
        },
        "id": "oSSydm8Wg6TB",
        "outputId": "66344f04-1d08-4748-8888-2b0f9b342cb3"
      },
      "execution_count": 1,
      "outputs": [
        {
          "output_type": "stream",
          "name": "stdout",
          "text": [
            "Hello,World!\n"
          ]
        }
      ]
    },
    {
      "cell_type": "code",
      "source": [
        "#2.Write a Python program that displays your name and age.\n",
        "name=input(\"Enter your name:\")\n",
        "age=input(\"Enter your age:\")\n",
        "print(\"My name is\",name,\"and my age is\",age)\n",
        "\n"
      ],
      "metadata": {
        "colab": {
          "base_uri": "https://localhost:8080/"
        },
        "id": "CBClp2lnhPui",
        "outputId": "5dbd1444-7ce0-4b0d-f0c6-b886308445e9"
      },
      "execution_count": 2,
      "outputs": [
        {
          "output_type": "stream",
          "name": "stdout",
          "text": [
            "Enter your name:Arti\n",
            "Enter your age:28\n",
            "My name is Arti and my age is 28\n"
          ]
        }
      ]
    },
    {
      "cell_type": "code",
      "source": [
        "#3.Write code to print all the pre-defined keywords in Python using the keyword library?\n",
        "help('keywords')"
      ],
      "metadata": {
        "colab": {
          "base_uri": "https://localhost:8080/"
        },
        "id": "Lk-gP6TXh0nt",
        "outputId": "a7e25b45-017f-4614-8da7-cdc91c2863b0"
      },
      "execution_count": 3,
      "outputs": [
        {
          "output_type": "stream",
          "name": "stdout",
          "text": [
            "\n",
            "Here is a list of the Python keywords.  Enter any keyword to get more help.\n",
            "\n",
            "False               class               from                or\n",
            "None                continue            global              pass\n",
            "True                def                 if                  raise\n",
            "and                 del                 import              return\n",
            "as                  elif                in                  try\n",
            "assert              else                is                  while\n",
            "async               except              lambda              with\n",
            "await               finally             nonlocal            yield\n",
            "break               for                 not                 \n",
            "\n"
          ]
        }
      ]
    },
    {
      "cell_type": "code",
      "source": [
        "#4.Write a program that checks if a given word is a Python keyword.\n",
        "import keyword\n",
        "word=input(\"Enter a word:\")\n",
        "if keyword.iskeyword(word):\n",
        "    print(word,\"is a keyword\")\n",
        "else:\n",
        "    print(word,\"is not a keyword\")"
      ],
      "metadata": {
        "colab": {
          "base_uri": "https://localhost:8080/"
        },
        "id": "dByFWhqkiTPw",
        "outputId": "2dccf6bc-9f61-49be-87c7-21349a0b70f8"
      },
      "execution_count": 4,
      "outputs": [
        {
          "output_type": "stream",
          "name": "stdout",
          "text": [
            "Enter a word:try\n",
            "try is a keyword\n"
          ]
        }
      ]
    },
    {
      "cell_type": "code",
      "source": [
        "#5.Create a list and tuple in Python, and demonstrate how attempting to change an element works differently\n",
        "my_list=[1,2,3,4,5]\n",
        "my_tuple=(1,2,3,4,5)\n",
        "my_list[0]=10\n",
        "print(my_list)\n",
        "my_tuple[0]=10\n",
        "print(my_tuple)"
      ],
      "metadata": {
        "colab": {
          "base_uri": "https://localhost:8080/",
          "height": 222
        },
        "id": "hVO06Hfviswb",
        "outputId": "7da93cb4-31f1-495a-ce32-f5357bcc83bc"
      },
      "execution_count": 5,
      "outputs": [
        {
          "output_type": "stream",
          "name": "stdout",
          "text": [
            "[10, 2, 3, 4, 5]\n"
          ]
        },
        {
          "output_type": "error",
          "ename": "TypeError",
          "evalue": "'tuple' object does not support item assignment",
          "traceback": [
            "\u001b[0;31m---------------------------------------------------------------------------\u001b[0m",
            "\u001b[0;31mTypeError\u001b[0m                                 Traceback (most recent call last)",
            "\u001b[0;32m<ipython-input-5-c6f86eb1ca54>\u001b[0m in \u001b[0;36m<cell line: 0>\u001b[0;34m()\u001b[0m\n\u001b[1;32m      4\u001b[0m \u001b[0mmy_list\u001b[0m\u001b[0;34m[\u001b[0m\u001b[0;36m0\u001b[0m\u001b[0;34m]\u001b[0m\u001b[0;34m=\u001b[0m\u001b[0;36m10\u001b[0m\u001b[0;34m\u001b[0m\u001b[0;34m\u001b[0m\u001b[0m\n\u001b[1;32m      5\u001b[0m \u001b[0mprint\u001b[0m\u001b[0;34m(\u001b[0m\u001b[0mmy_list\u001b[0m\u001b[0;34m)\u001b[0m\u001b[0;34m\u001b[0m\u001b[0;34m\u001b[0m\u001b[0m\n\u001b[0;32m----> 6\u001b[0;31m \u001b[0mmy_tuple\u001b[0m\u001b[0;34m[\u001b[0m\u001b[0;36m0\u001b[0m\u001b[0;34m]\u001b[0m\u001b[0;34m=\u001b[0m\u001b[0;36m10\u001b[0m\u001b[0;34m\u001b[0m\u001b[0;34m\u001b[0m\u001b[0m\n\u001b[0m\u001b[1;32m      7\u001b[0m \u001b[0mprint\u001b[0m\u001b[0;34m(\u001b[0m\u001b[0mmy_tuple\u001b[0m\u001b[0;34m)\u001b[0m\u001b[0;34m\u001b[0m\u001b[0;34m\u001b[0m\u001b[0m\n",
            "\u001b[0;31mTypeError\u001b[0m: 'tuple' object does not support item assignment"
          ]
        }
      ]
    },
    {
      "cell_type": "code",
      "source": [
        "#6.Write a function to demonstrate the behavior of mutable and immutable arguments\n",
        "\n",
        "def modify_arguments(immutable_arg, mutable_arg):\n",
        "    immutable_arg += 10\n",
        "    mutable_arg.append(4)\n",
        "\n",
        "    print(\"Inside function:\")\n",
        "    print(\"Immutable arg:\", immutable_arg)\n",
        "    print(\"Mutable arg:\", mutable_arg)\n",
        "\n",
        "x = 5\n",
        "y = [1, 2, 3]\n",
        "\n",
        "print(\"Before function call:\")\n",
        "print(\"x =\", x)\n",
        "print(\"y =\", y)\n",
        "\n",
        "modify_arguments(x, y)\n",
        "\n",
        "print(\"\\nAfter function call:\")\n",
        "print(\"x =\", x)\n",
        "print(\"y =\", y)\n"
      ],
      "metadata": {
        "colab": {
          "base_uri": "https://localhost:8080/"
        },
        "id": "3P15koNmjJn4",
        "outputId": "8d85e4a0-d1ce-45b6-dd2d-5cd3c7a4c6be"
      },
      "execution_count": 8,
      "outputs": [
        {
          "output_type": "stream",
          "name": "stdout",
          "text": [
            "Before function call:\n",
            "x = 5\n",
            "y = [1, 2, 3]\n",
            "Inside function:\n",
            "Immutable arg: 15\n",
            "Mutable arg: [1, 2, 3, 4]\n",
            "\n",
            "After function call:\n",
            "x = 5\n",
            "y = [1, 2, 3, 4]\n"
          ]
        }
      ]
    },
    {
      "cell_type": "code",
      "source": [
        "#7.Write a program that performs basic arithmetic operations on two user-input numbers\n",
        "a=2\n",
        "b=3\n",
        "c=a+b\n",
        "print(c)"
      ],
      "metadata": {
        "colab": {
          "base_uri": "https://localhost:8080/"
        },
        "id": "0oYs4ROwcy0x",
        "outputId": "dd746e7e-5083-405a-97e9-c66ebe780caa"
      },
      "execution_count": 9,
      "outputs": [
        {
          "output_type": "stream",
          "name": "stdout",
          "text": [
            "5\n"
          ]
        }
      ]
    },
    {
      "cell_type": "code",
      "source": [
        "a=3\n",
        "b=2\n",
        "c=a-b\n",
        "print(c)"
      ],
      "metadata": {
        "colab": {
          "base_uri": "https://localhost:8080/"
        },
        "id": "0A86UpAYdrMx",
        "outputId": "1c219c98-8273-4387-8143-2e78dbbc7989"
      },
      "execution_count": 12,
      "outputs": [
        {
          "output_type": "stream",
          "name": "stdout",
          "text": [
            "1\n"
          ]
        }
      ]
    },
    {
      "cell_type": "code",
      "source": [
        "#9.Write a Python program to convert user input from string to integer, float, and boolean types.\n",
        "a=\"5\"\n",
        "type(a)"
      ],
      "metadata": {
        "colab": {
          "base_uri": "https://localhost:8080/"
        },
        "id": "hVZBVjDYe288",
        "outputId": "5a0210b1-84ec-403d-886e-49e809f63fe3"
      },
      "execution_count": null,
      "outputs": [
        {
          "output_type": "execute_result",
          "data": {
            "text/plain": [
              "str"
            ]
          },
          "metadata": {},
          "execution_count": 8
        }
      ]
    },
    {
      "cell_type": "code",
      "source": [
        "a=\"5\"\n",
        "int(a)"
      ],
      "metadata": {
        "colab": {
          "base_uri": "https://localhost:8080/"
        },
        "id": "Dds1OvwNfPOd",
        "outputId": "6db409a1-554e-453d-ef66-707e1d812dad"
      },
      "execution_count": null,
      "outputs": [
        {
          "output_type": "execute_result",
          "data": {
            "text/plain": [
              "5"
            ]
          },
          "metadata": {},
          "execution_count": 9
        }
      ]
    },
    {
      "cell_type": "code",
      "source": [
        "a=\"5\"\n",
        "bool(a)"
      ],
      "metadata": {
        "colab": {
          "base_uri": "https://localhost:8080/"
        },
        "outputId": "f0e26694-afad-4669-83ca-7f97930b7df7",
        "id": "wyb9S0cRnj3_"
      },
      "execution_count": null,
      "outputs": [
        {
          "output_type": "execute_result",
          "data": {
            "text/plain": [
              "True"
            ]
          },
          "metadata": {},
          "execution_count": 11
        }
      ]
    },
    {
      "cell_type": "code",
      "source": [
        "a=\"5\"\n",
        "float(a)"
      ],
      "metadata": {
        "colab": {
          "base_uri": "https://localhost:8080/"
        },
        "id": "v1CJMIlbflIa",
        "outputId": "0d3416e9-d703-4212-c140-a2497358ab86"
      },
      "execution_count": 11,
      "outputs": [
        {
          "output_type": "execute_result",
          "data": {
            "text/plain": [
              "5.0"
            ]
          },
          "metadata": {},
          "execution_count": 11
        }
      ]
    },
    {
      "cell_type": "code",
      "source": [
        "#11. Write a program that checks if a number is positive, negative, or zero\n",
        "num=0\n",
        "if num>0:\n",
        "  print(\"positive\")\n",
        "elif num<0:\n",
        "  print(\"negative\")\n",
        "else:\n",
        "  print(\"zero\")"
      ],
      "metadata": {
        "colab": {
          "base_uri": "https://localhost:8080/"
        },
        "outputId": "e6b89a17-cc80-408c-f93a-ff8aac3ca50d",
        "id": "UgBVn0Bgoaj8"
      },
      "execution_count": null,
      "outputs": [
        {
          "output_type": "stream",
          "name": "stdout",
          "text": [
            "zero\n"
          ]
        }
      ]
    },
    {
      "cell_type": "code",
      "source": [
        "#10.Write code to demonstrate type casting with list elements.\n",
        "int_list=[1,2,3]\n",
        "str_list=[str(num) for num in int_list]\n",
        "print(str_list)"
      ],
      "metadata": {
        "colab": {
          "base_uri": "https://localhost:8080/"
        },
        "id": "_wdf1dhyfrj6",
        "outputId": "37944c15-2767-409b-9524-bcc6cc149524"
      },
      "execution_count": null,
      "outputs": [
        {
          "output_type": "stream",
          "name": "stdout",
          "text": [
            "['1', '2', '3']\n"
          ]
        }
      ]
    },
    {
      "cell_type": "code",
      "source": [
        "#12.Write a for loop to print numbers from 1 to 10\n",
        "for i in range(1, 11):\n",
        "    print(i)\n"
      ],
      "metadata": {
        "colab": {
          "base_uri": "https://localhost:8080/"
        },
        "id": "iGwHkch5oiYw",
        "outputId": "d04d94f9-c603-40c6-8e16-1e23838a693d"
      },
      "execution_count": 13,
      "outputs": [
        {
          "output_type": "stream",
          "name": "stdout",
          "text": [
            "1\n",
            "2\n",
            "3\n",
            "4\n",
            "5\n",
            "6\n",
            "7\n",
            "8\n",
            "9\n",
            "10\n"
          ]
        }
      ]
    },
    {
      "cell_type": "code",
      "source": [
        "#13.Write a python program to find the sum of all even numbers betwwen 1 and 50.\n",
        "even_sum = 0\n",
        "\n",
        "for num in range(1, 51):\n",
        "    if num % 2 == 0:\n",
        "        even_sum += num\n",
        "\n",
        "print(\"Sum of even numbers from 1 to 50 is:\", even_sum)\n"
      ],
      "metadata": {
        "colab": {
          "base_uri": "https://localhost:8080/"
        },
        "id": "9_EAy9Pko2kB",
        "outputId": "f62c8f58-8e51-448a-cd52-e62c2e9c9af1"
      },
      "execution_count": 15,
      "outputs": [
        {
          "output_type": "stream",
          "name": "stdout",
          "text": [
            "Sum of even numbers from 1 to 50 is: 650\n"
          ]
        }
      ]
    },
    {
      "cell_type": "code",
      "source": [
        "#14.Write a program to reverse a string using a while loop.\n",
        "text = input(\"Enter a string: \")\n",
        "reversed_text = \"\"\n",
        "index = len(text) - 1\n",
        "while index >= 0:\n",
        "    reversed_text += text[index]\n",
        "    index -= 1\n",
        "print(\"Reversed string:\", reversed_text)\n"
      ],
      "metadata": {
        "colab": {
          "base_uri": "https://localhost:8080/"
        },
        "id": "Ad6ZyvZBtTmV",
        "outputId": "c81d7f6f-85fd-48b5-c5b7-3d2f6347f793"
      },
      "execution_count": 16,
      "outputs": [
        {
          "output_type": "stream",
          "name": "stdout",
          "text": [
            "Enter a string: hello\n",
            "Reversed string: olleh\n"
          ]
        }
      ]
    },
    {
      "cell_type": "code",
      "source": [
        "#15.Write a Python program to calculate the factorial of a number provided by the user using a while loop.\n",
        "num = int(input(\"Enter a non-negative integer: \"))\n",
        "if num < 0:\n",
        "    print(\"Factorial is not defined for negative numbers.\")\n",
        "else:\n",
        "    factorial = 1\n",
        "    i = 1\n",
        "\n",
        "    while i <= num:\n",
        "        factorial *= i\n",
        "        i += 1\n",
        "\n",
        "    print(f\"Factorial of {num} is: {factorial}\")\n"
      ],
      "metadata": {
        "colab": {
          "base_uri": "https://localhost:8080/"
        },
        "id": "2ADdLFtlugd3",
        "outputId": "63ca98b3-c22b-40ee-e1d0-bcc39812b3fe"
      },
      "execution_count": 17,
      "outputs": [
        {
          "output_type": "stream",
          "name": "stdout",
          "text": [
            "Enter a non-negative integer: 5\n",
            "Factorial of 5 is: 120\n"
          ]
        }
      ]
    }
  ]
}